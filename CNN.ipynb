{
 "cells": [
  {
   "cell_type": "code",
   "execution_count": 1,
   "id": "f2d7a8cd",
   "metadata": {},
   "outputs": [
    {
     "name": "stdout",
     "output_type": "stream",
     "text": [
      "WARNING:tensorflow:From C:\\Anaconda\\Lib\\site-packages\\keras\\src\\losses.py:2976: The name tf.losses.sparse_softmax_cross_entropy is deprecated. Please use tf.compat.v1.losses.sparse_softmax_cross_entropy instead.\n",
      "\n"
     ]
    }
   ],
   "source": [
    "import tensorflow as tf\n",
    "import keras\n",
    "\n",
    "\n",
    "import warnings\n",
    "warnings.filterwarnings('ignore')"
   ]
  },
  {
   "cell_type": "code",
   "execution_count": 2,
   "id": "ac4410fe",
   "metadata": {},
   "outputs": [],
   "source": [
    "from keras.preprocessing.image import ImageDataGenerator\n"
   ]
  },
  {
   "cell_type": "code",
   "execution_count": 3,
   "id": "5df42b92",
   "metadata": {},
   "outputs": [],
   "source": [
    "train_datagen=ImageDataGenerator(rescale=1/255,shear_range=0.2,zoom_range=0.2)\n"
   ]
  },
  {
   "cell_type": "code",
   "execution_count": 4,
   "id": "2e00f407",
   "metadata": {},
   "outputs": [
    {
     "name": "stdout",
     "output_type": "stream",
     "text": [
      "Found 8048 images belonging to 2 classes.\n"
     ]
    }
   ],
   "source": [
    "import os\n",
    "\n",
    "trianing_set=train_datagen.flow_from_directory(r'H:\\Sandeep\\DATA SCIENCE\\DATA SCIENCE -srk\\SRK notes NEW\\[09.00 AM] SRK Sir Notes\\19.Convolution Neural Networks\\dataset\\training_set',target_size=(64,64),class_mode='binary')"
   ]
  },
  {
   "cell_type": "code",
   "execution_count": 5,
   "id": "7a738c3c",
   "metadata": {},
   "outputs": [
    {
     "data": {
      "text/plain": [
       "['__class__',\n",
       " '__delattr__',\n",
       " '__dict__',\n",
       " '__dir__',\n",
       " '__doc__',\n",
       " '__eq__',\n",
       " '__format__',\n",
       " '__ge__',\n",
       " '__getattribute__',\n",
       " '__getstate__',\n",
       " '__gt__',\n",
       " '__hash__',\n",
       " '__init__',\n",
       " '__init_subclass__',\n",
       " '__le__',\n",
       " '__lt__',\n",
       " '__module__',\n",
       " '__ne__',\n",
       " '__new__',\n",
       " '__reduce__',\n",
       " '__reduce_ex__',\n",
       " '__repr__',\n",
       " '__setattr__',\n",
       " '__sizeof__',\n",
       " '__str__',\n",
       " '__subclasshook__',\n",
       " '__weakref__',\n",
       " '_keras_api_names',\n",
       " '_keras_api_names_v1',\n",
       " '_validation_split',\n",
       " 'apply_transform',\n",
       " 'brightness_range',\n",
       " 'channel_axis',\n",
       " 'channel_shift_range',\n",
       " 'col_axis',\n",
       " 'cval',\n",
       " 'data_format',\n",
       " 'dtype',\n",
       " 'featurewise_center',\n",
       " 'featurewise_std_normalization',\n",
       " 'fill_mode',\n",
       " 'fit',\n",
       " 'flow',\n",
       " 'flow_from_dataframe',\n",
       " 'flow_from_directory',\n",
       " 'get_random_transform',\n",
       " 'height_shift_range',\n",
       " 'horizontal_flip',\n",
       " 'interpolation_order',\n",
       " 'mean',\n",
       " 'preprocessing_function',\n",
       " 'random_transform',\n",
       " 'rescale',\n",
       " 'rotation_range',\n",
       " 'row_axis',\n",
       " 'samplewise_center',\n",
       " 'samplewise_std_normalization',\n",
       " 'shear_range',\n",
       " 'standardize',\n",
       " 'std',\n",
       " 'vertical_flip',\n",
       " 'width_shift_range',\n",
       " 'zca_epsilon',\n",
       " 'zca_whitening',\n",
       " 'zca_whitening_matrix',\n",
       " 'zoom_range']"
      ]
     },
     "execution_count": 5,
     "metadata": {},
     "output_type": "execute_result"
    }
   ],
   "source": [
    "dir(train_datagen)"
   ]
  },
  {
   "cell_type": "code",
   "execution_count": 6,
   "id": "5a4080a8",
   "metadata": {},
   "outputs": [
    {
     "data": {
      "text/plain": [
       "{'cats': 0, 'dogs': 1}"
      ]
     },
     "execution_count": 6,
     "metadata": {},
     "output_type": "execute_result"
    }
   ],
   "source": [
    "trianing_set.class_indices"
   ]
  },
  {
   "cell_type": "code",
   "execution_count": 7,
   "id": "07f50155",
   "metadata": {},
   "outputs": [],
   "source": [
    "test_datagen=ImageDataGenerator(rescale=1/255)"
   ]
  },
  {
   "cell_type": "code",
   "execution_count": 8,
   "id": "2e342445",
   "metadata": {},
   "outputs": [
    {
     "name": "stdout",
     "output_type": "stream",
     "text": [
      "Found 2000 images belonging to 2 classes.\n"
     ]
    }
   ],
   "source": [
    "testing_set=test_datagen.flow_from_directory(r'H:\\Sandeep\\DATA SCIENCE\\DATA SCIENCE -srk\\SRK notes NEW\\[09.00 AM] SRK Sir Notes\\19.Convolution Neural Networks\\dataset\\test_set',target_size=(64,64),class_mode='binary')"
   ]
  },
  {
   "cell_type": "code",
   "execution_count": 9,
   "id": "c3e91a5f",
   "metadata": {},
   "outputs": [
    {
     "data": {
      "text/plain": [
       "{'cats': 0, 'dogs': 1}"
      ]
     },
     "execution_count": 9,
     "metadata": {},
     "output_type": "execute_result"
    }
   ],
   "source": [
    "testing_set.class_indices"
   ]
  },
  {
   "cell_type": "code",
   "execution_count": 10,
   "id": "3a3a4efe",
   "metadata": {},
   "outputs": [
    {
     "name": "stdout",
     "output_type": "stream",
     "text": [
      "WARNING:tensorflow:From C:\\Anaconda\\Lib\\site-packages\\keras\\src\\backend.py:873: The name tf.get_default_graph is deprecated. Please use tf.compat.v1.get_default_graph instead.\n",
      "\n"
     ]
    }
   ],
   "source": [
    "from keras.models import Sequential\n",
    "classifier=Sequential()"
   ]
  },
  {
   "cell_type": "markdown",
   "id": "c86fcc13",
   "metadata": {},
   "source": [
    "# convolution"
   ]
  },
  {
   "cell_type": "code",
   "execution_count": 11,
   "id": "a52cc51c",
   "metadata": {},
   "outputs": [],
   "source": [
    "from keras.layers import Conv2D\n",
    "classifier.add(Conv2D(input_shape=[64,64,3],filters=32,kernel_size=3,activation='relu'))"
   ]
  },
  {
   "cell_type": "markdown",
   "id": "62e4980e",
   "metadata": {},
   "source": [
    "# Maxpooling"
   ]
  },
  {
   "cell_type": "code",
   "execution_count": 12,
   "id": "5b1a9b8e",
   "metadata": {},
   "outputs": [
    {
     "name": "stdout",
     "output_type": "stream",
     "text": [
      "WARNING:tensorflow:From C:\\Anaconda\\Lib\\site-packages\\keras\\src\\layers\\pooling\\max_pooling2d.py:161: The name tf.nn.max_pool is deprecated. Please use tf.nn.max_pool2d instead.\n",
      "\n"
     ]
    }
   ],
   "source": [
    "from keras.layers import MaxPooling2D \n",
    "\n",
    "classifier.add(MaxPooling2D(pool_size=2,strides=2))"
   ]
  },
  {
   "cell_type": "markdown",
   "id": "bd30c2ba",
   "metadata": {},
   "source": [
    "# Flattening"
   ]
  },
  {
   "cell_type": "code",
   "execution_count": 13,
   "id": "35c2d476",
   "metadata": {},
   "outputs": [],
   "source": [
    "from keras.layers import Flatten\n",
    "\n",
    "classifier.add(Flatten())"
   ]
  },
  {
   "cell_type": "markdown",
   "id": "5ec2f64c",
   "metadata": {},
   "source": [
    "# Full connection"
   ]
  },
  {
   "cell_type": "code",
   "execution_count": 14,
   "id": "17de869f",
   "metadata": {},
   "outputs": [
    {
     "name": "stdout",
     "output_type": "stream",
     "text": [
      "WARNING:tensorflow:From C:\\Anaconda\\Lib\\site-packages\\keras\\src\\optimizers\\__init__.py:309: The name tf.train.Optimizer is deprecated. Please use tf.compat.v1.train.Optimizer instead.\n",
      "\n"
     ]
    }
   ],
   "source": [
    "from keras.layers import Dense\n",
    "\n",
    "classifier.add(Dense(units=180,activation='relu'))\n",
    "classifier.add(Dense(units=1,activation='sigmoid'))\n",
    "classifier.compile(optimizer='adam',loss='binary_crossentropy',metrics=['accuracy'])\n",
    "\n"
   ]
  },
  {
   "cell_type": "code",
   "execution_count": 15,
   "id": "668da728",
   "metadata": {},
   "outputs": [
    {
     "name": "stdout",
     "output_type": "stream",
     "text": [
      "Epoch 1/25\n",
      "WARNING:tensorflow:From C:\\Anaconda\\Lib\\site-packages\\keras\\src\\utils\\tf_utils.py:492: The name tf.ragged.RaggedTensorValue is deprecated. Please use tf.compat.v1.ragged.RaggedTensorValue instead.\n",
      "\n",
      "WARNING:tensorflow:From C:\\Anaconda\\Lib\\site-packages\\keras\\src\\engine\\base_layer_utils.py:384: The name tf.executing_eagerly_outside_functions is deprecated. Please use tf.compat.v1.executing_eagerly_outside_functions instead.\n",
      "\n",
      "252/252 [==============================] - 272s 1s/step - loss: 0.6597 - accuracy: 0.6215 - val_loss: 0.6295 - val_accuracy: 0.6625\n",
      "Epoch 2/25\n",
      "252/252 [==============================] - 167s 660ms/step - loss: 0.5851 - accuracy: 0.6921 - val_loss: 0.5644 - val_accuracy: 0.7080\n",
      "Epoch 3/25\n",
      "252/252 [==============================] - 64s 253ms/step - loss: 0.5469 - accuracy: 0.7189 - val_loss: 0.5485 - val_accuracy: 0.7265\n",
      "Epoch 4/25\n",
      "252/252 [==============================] - 61s 242ms/step - loss: 0.5231 - accuracy: 0.7361 - val_loss: 0.5602 - val_accuracy: 0.7305\n",
      "Epoch 5/25\n",
      "252/252 [==============================] - 65s 257ms/step - loss: 0.4982 - accuracy: 0.7502 - val_loss: 0.5299 - val_accuracy: 0.7470\n",
      "Epoch 6/25\n",
      "252/252 [==============================] - 64s 253ms/step - loss: 0.4761 - accuracy: 0.7633 - val_loss: 0.5245 - val_accuracy: 0.7555\n",
      "Epoch 7/25\n",
      "252/252 [==============================] - 60s 238ms/step - loss: 0.4550 - accuracy: 0.7840 - val_loss: 0.5727 - val_accuracy: 0.7405\n",
      "Epoch 8/25\n",
      "252/252 [==============================] - 59s 236ms/step - loss: 0.4313 - accuracy: 0.7966 - val_loss: 0.5401 - val_accuracy: 0.7515\n",
      "Epoch 9/25\n",
      "252/252 [==============================] - 61s 242ms/step - loss: 0.4101 - accuracy: 0.8100 - val_loss: 0.5657 - val_accuracy: 0.7635\n",
      "Epoch 10/25\n",
      "252/252 [==============================] - 69s 273ms/step - loss: 0.3825 - accuracy: 0.8319 - val_loss: 0.5728 - val_accuracy: 0.7665\n",
      "Epoch 11/25\n",
      "252/252 [==============================] - 60s 238ms/step - loss: 0.3659 - accuracy: 0.8342 - val_loss: 0.6105 - val_accuracy: 0.7530\n",
      "Epoch 12/25\n",
      "252/252 [==============================] - 60s 237ms/step - loss: 0.3397 - accuracy: 0.8524 - val_loss: 0.5755 - val_accuracy: 0.7640\n",
      "Epoch 13/25\n",
      "252/252 [==============================] - 58s 231ms/step - loss: 0.3117 - accuracy: 0.8677 - val_loss: 0.6005 - val_accuracy: 0.7565\n",
      "Epoch 14/25\n",
      "252/252 [==============================] - 63s 250ms/step - loss: 0.2884 - accuracy: 0.8769 - val_loss: 0.6239 - val_accuracy: 0.7625\n",
      "Epoch 15/25\n",
      "252/252 [==============================] - 60s 240ms/step - loss: 0.2611 - accuracy: 0.8907 - val_loss: 0.7498 - val_accuracy: 0.7330\n",
      "Epoch 16/25\n",
      "252/252 [==============================] - 61s 241ms/step - loss: 0.2381 - accuracy: 0.9054 - val_loss: 0.6955 - val_accuracy: 0.7650\n",
      "Epoch 17/25\n",
      "252/252 [==============================] - 64s 255ms/step - loss: 0.2159 - accuracy: 0.9124 - val_loss: 0.6851 - val_accuracy: 0.7630\n",
      "Epoch 18/25\n",
      "252/252 [==============================] - 61s 241ms/step - loss: 0.2182 - accuracy: 0.9108 - val_loss: 0.7337 - val_accuracy: 0.7415\n",
      "Epoch 19/25\n",
      "252/252 [==============================] - 59s 235ms/step - loss: 0.1757 - accuracy: 0.9350 - val_loss: 0.8562 - val_accuracy: 0.7485\n",
      "Epoch 20/25\n",
      "252/252 [==============================] - 59s 236ms/step - loss: 0.1676 - accuracy: 0.9361 - val_loss: 0.8297 - val_accuracy: 0.7490\n",
      "Epoch 21/25\n",
      "252/252 [==============================] - 63s 250ms/step - loss: 0.1595 - accuracy: 0.9374 - val_loss: 0.7796 - val_accuracy: 0.7525\n",
      "Epoch 22/25\n",
      "252/252 [==============================] - 60s 239ms/step - loss: 0.1469 - accuracy: 0.9443 - val_loss: 0.8544 - val_accuracy: 0.7550\n",
      "Epoch 23/25\n",
      "252/252 [==============================] - 60s 236ms/step - loss: 0.1146 - accuracy: 0.9579 - val_loss: 0.9394 - val_accuracy: 0.7390\n",
      "Epoch 24/25\n",
      "252/252 [==============================] - 61s 243ms/step - loss: 0.1194 - accuracy: 0.9583 - val_loss: 0.9191 - val_accuracy: 0.7490\n",
      "Epoch 25/25\n",
      "252/252 [==============================] - 60s 239ms/step - loss: 0.1178 - accuracy: 0.9563 - val_loss: 0.9200 - val_accuracy: 0.7495\n"
     ]
    },
    {
     "data": {
      "text/plain": [
       "<keras.src.callbacks.History at 0x267fc9b95d0>"
      ]
     },
     "execution_count": 15,
     "metadata": {},
     "output_type": "execute_result"
    }
   ],
   "source": [
    "classifier.fit(x=trianing_set,validation_data=testing_set,epochs=25)"
   ]
  },
  {
   "cell_type": "markdown",
   "id": "a5daf39f",
   "metadata": {},
   "source": [
    "# Evalution"
   ]
  },
  {
   "cell_type": "code",
   "execution_count": 16,
   "id": "f66f1075",
   "metadata": {},
   "outputs": [],
   "source": [
    "import numpy as np\n",
    "from PIL import Image"
   ]
  },
  {
   "cell_type": "code",
   "execution_count": 17,
   "id": "8e1542fb",
   "metadata": {},
   "outputs": [
    {
     "name": "stdout",
     "output_type": "stream",
     "text": [
      "1/1 [==============================] - 0s 157ms/step\n",
      "Dog\n"
     ]
    }
   ],
   "source": [
    "test_image=Image.open(r'H:\\Sandeep\\DATA SCIENCE\\DATA SCIENCE -srk\\SRK notes NEW\\[09.00 AM] SRK Sir Notes\\19.Convolution Neural Networks\\dataset\\single_prediction\\cat_or_dog_1.jpg')\n",
    "test_image=test_image.resize((64,64))\n",
    "test_image=np.array(test_image)\n",
    "test_image=np.expand_dims(test_image,axis=0)\n",
    "result=classifier.predict(test_image)\n",
    "\n",
    "if result[0][0]==1:\n",
    "    print('Dog')\n",
    "else:\n",
    "    print('Cat')\n"
   ]
  },
  {
   "cell_type": "code",
   "execution_count": 18,
   "id": "108ee9c4",
   "metadata": {},
   "outputs": [
    {
     "name": "stdout",
     "output_type": "stream",
     "text": [
      "1/1 [==============================] - 0s 33ms/step\n"
     ]
    },
    {
     "data": {
      "text/plain": [
       "array([[1.]], dtype=float32)"
      ]
     },
     "execution_count": 18,
     "metadata": {},
     "output_type": "execute_result"
    }
   ],
   "source": [
    "result=classifier.predict(test_image)\n",
    "\n",
    "result"
   ]
  },
  {
   "cell_type": "code",
   "execution_count": 19,
   "id": "2611bb27",
   "metadata": {},
   "outputs": [
    {
     "name": "stdout",
     "output_type": "stream",
     "text": [
      "1/1 [==============================] - 0s 33ms/step\n",
      "Cat\n"
     ]
    }
   ],
   "source": [
    "test_image=Image.open(r'H:\\Sandeep\\DATA SCIENCE\\DATA SCIENCE -srk\\SRK notes NEW\\[09.00 AM] SRK Sir Notes\\19.Convolution Neural Networks\\dataset\\single_prediction\\cat_or_dog_2.jpg')\n",
    "test_image=test_image.resize((64,64))\n",
    "test_image=np.array(test_image)\n",
    "test_image=np.expand_dims(test_image,axis=0)\n",
    "result=classifier.predict(test_image)\n",
    "\n",
    "if result[0][0]==1:\n",
    "    print('Dog')\n",
    "else:\n",
    "    print('Cat')"
   ]
  },
  {
   "cell_type": "code",
   "execution_count": 20,
   "id": "368f3e73",
   "metadata": {},
   "outputs": [
    {
     "name": "stdout",
     "output_type": "stream",
     "text": [
      "1/1 [==============================] - 0s 31ms/step\n"
     ]
    },
    {
     "data": {
      "text/plain": [
       "array([[0.]], dtype=float32)"
      ]
     },
     "execution_count": 20,
     "metadata": {},
     "output_type": "execute_result"
    }
   ],
   "source": [
    "result=classifier.predict(test_image)\n",
    "\n",
    "result"
   ]
  }
 ],
 "metadata": {
  "kernelspec": {
   "display_name": "Python 3 (ipykernel)",
   "language": "python",
   "name": "python3"
  },
  "language_info": {
   "codemirror_mode": {
    "name": "ipython",
    "version": 3
   },
   "file_extension": ".py",
   "mimetype": "text/x-python",
   "name": "python",
   "nbconvert_exporter": "python",
   "pygments_lexer": "ipython3",
   "version": "3.11.5"
  }
 },
 "nbformat": 4,
 "nbformat_minor": 5
}
